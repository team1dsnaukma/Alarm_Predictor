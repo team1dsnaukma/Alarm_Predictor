{
 "cells": [
  {
   "cell_type": "code",
   "execution_count": 14,
   "id": "4b5ab463-f43f-474b-abf3-77b07e9dc9d0",
   "metadata": {},
   "outputs": [],
   "source": [
    "import csv\n",
    "import pandas as pd"
   ]
  },
  {
   "cell_type": "code",
   "execution_count": 15,
   "id": "a8000eaa-1668-4475-ab66-e0d926ae32a9",
   "metadata": {},
   "outputs": [
    {
     "data": {
      "text/html": [
       "<div>\n",
       "<style scoped>\n",
       "    .dataframe tbody tr th:only-of-type {\n",
       "        vertical-align: middle;\n",
       "    }\n",
       "\n",
       "    .dataframe tbody tr th {\n",
       "        vertical-align: top;\n",
       "    }\n",
       "\n",
       "    .dataframe thead th {\n",
       "        text-align: right;\n",
       "    }\n",
       "</style>\n",
       "<table border=\"1\" class=\"dataframe\">\n",
       "  <thead>\n",
       "    <tr style=\"text-align: right;\">\n",
       "      <th></th>\n",
       "      <th>23-02-2022</th>\n",
       "      <th>Unnamed: 1</th>\n",
       "    </tr>\n",
       "  </thead>\n",
       "  <tbody>\n",
       "    <tr>\n",
       "      <th>0</th>\n",
       "      <td>24-02-2022</td>\n",
       "      <td>\\r\\nMason Clark, George Barros, and Kateryna S...</td>\n",
       "    </tr>\n",
       "    <tr>\n",
       "      <th>1</th>\n",
       "      <td>25-02-2022</td>\n",
       "      <td>Key Takeaways\\r\\nRussian forces carried out ad...</td>\n",
       "    </tr>\n",
       "    <tr>\n",
       "      <th>2</th>\n",
       "      <td>26-02-2022</td>\n",
       "      <td>Ukrainian resistance remains remarkably effect...</td>\n",
       "    </tr>\n",
       "    <tr>\n",
       "      <th>3</th>\n",
       "      <td>27-02-2022</td>\n",
       "      <td>\\r\\nThe Russian military has likely recognized...</td>\n",
       "    </tr>\n",
       "    <tr>\n",
       "      <th>4</th>\n",
       "      <td>28-02-2022</td>\n",
       "      <td>The Russian military is reorganizing its milit...</td>\n",
       "    </tr>\n",
       "    <tr>\n",
       "      <th>...</th>\n",
       "      <td>...</td>\n",
       "      <td>...</td>\n",
       "    </tr>\n",
       "    <tr>\n",
       "      <th>331</th>\n",
       "      <td>21-01-2023</td>\n",
       "      <td>The Ukrainian defense of Bakhmut is likely a s...</td>\n",
       "    </tr>\n",
       "    <tr>\n",
       "      <th>332</th>\n",
       "      <td>22-01-2023</td>\n",
       "      <td>January 22, 8:30 pm ET\\r\\nISW is publishing an...</td>\n",
       "    </tr>\n",
       "    <tr>\n",
       "      <th>333</th>\n",
       "      <td>23-01-2023</td>\n",
       "      <td>January 23, 9:45pm ET \\r\\nUkrainian intelligen...</td>\n",
       "    </tr>\n",
       "    <tr>\n",
       "      <th>334</th>\n",
       "      <td>24-01-2023</td>\n",
       "      <td>A coalition of NATO member states reportedly w...</td>\n",
       "    </tr>\n",
       "    <tr>\n",
       "      <th>335</th>\n",
       "      <td>25-01-2023</td>\n",
       "      <td>Russian forces may be engaging in limited spo...</td>\n",
       "    </tr>\n",
       "  </tbody>\n",
       "</table>\n",
       "<p>336 rows × 2 columns</p>\n",
       "</div>"
      ],
      "text/plain": [
       "     23-02-2022                                         Unnamed: 1\n",
       "0    24-02-2022  \\r\\nMason Clark, George Barros, and Kateryna S...\n",
       "1    25-02-2022  Key Takeaways\\r\\nRussian forces carried out ad...\n",
       "2    26-02-2022  Ukrainian resistance remains remarkably effect...\n",
       "3    27-02-2022  \\r\\nThe Russian military has likely recognized...\n",
       "4    28-02-2022  The Russian military is reorganizing its milit...\n",
       "..          ...                                                ...\n",
       "331  21-01-2023  The Ukrainian defense of Bakhmut is likely a s...\n",
       "332  22-01-2023  January 22, 8:30 pm ET\\r\\nISW is publishing an...\n",
       "333  23-01-2023  January 23, 9:45pm ET \\r\\nUkrainian intelligen...\n",
       "334  24-01-2023  A coalition of NATO member states reportedly w...\n",
       "335  25-01-2023   Russian forces may be engaging in limited spo...\n",
       "\n",
       "[336 rows x 2 columns]"
      ]
     },
     "execution_count": 15,
     "metadata": {},
     "output_type": "execute_result"
    }
   ],
   "source": [
    "sw = pd.read_csv('isw.csv')\n",
    "sw"
   ]
  },
  {
   "cell_type": "code",
   "execution_count": 16,
   "id": "48c26ff6-b9c8-4c1a-a9d8-99d402fbddcc",
   "metadata": {},
   "outputs": [
    {
     "data": {
      "text/plain": [
       "(336, 2)"
      ]
     },
     "execution_count": 16,
     "metadata": {},
     "output_type": "execute_result"
    }
   ],
   "source": [
    "sw.shape"
   ]
  },
  {
   "cell_type": "code",
   "execution_count": 17,
   "id": "112ecafe-ea05-4512-9696-a041df38f12a",
   "metadata": {},
   "outputs": [
    {
     "data": {
      "text/plain": [
       "23-02-2022    object\n",
       "Unnamed: 1    object\n",
       "dtype: object"
      ]
     },
     "execution_count": 17,
     "metadata": {},
     "output_type": "execute_result"
    }
   ],
   "source": [
    "sw.dtypes"
   ]
  },
  {
   "cell_type": "code",
   "execution_count": 18,
   "id": "804015c1-d1ab-4b17-9653-a8ace64461b6",
   "metadata": {},
   "outputs": [
    {
     "data": {
      "text/html": [
       "<div>\n",
       "<style scoped>\n",
       "    .dataframe tbody tr th:only-of-type {\n",
       "        vertical-align: middle;\n",
       "    }\n",
       "\n",
       "    .dataframe tbody tr th {\n",
       "        vertical-align: top;\n",
       "    }\n",
       "\n",
       "    .dataframe thead th {\n",
       "        text-align: right;\n",
       "    }\n",
       "</style>\n",
       "<table border=\"1\" class=\"dataframe\">\n",
       "  <thead>\n",
       "    <tr style=\"text-align: right;\">\n",
       "      <th></th>\n",
       "      <th>23-02-2022</th>\n",
       "      <th>Unnamed: 1</th>\n",
       "    </tr>\n",
       "  </thead>\n",
       "  <tbody>\n",
       "    <tr>\n",
       "      <th>0</th>\n",
       "      <td>24-02-2022</td>\n",
       "      <td>\\r\\nMason Clark, George Barros, and Kateryna S...</td>\n",
       "    </tr>\n",
       "    <tr>\n",
       "      <th>1</th>\n",
       "      <td>25-02-2022</td>\n",
       "      <td>Key Takeaways\\r\\nRussian forces carried out ad...</td>\n",
       "    </tr>\n",
       "    <tr>\n",
       "      <th>2</th>\n",
       "      <td>26-02-2022</td>\n",
       "      <td>Ukrainian resistance remains remarkably effect...</td>\n",
       "    </tr>\n",
       "    <tr>\n",
       "      <th>3</th>\n",
       "      <td>27-02-2022</td>\n",
       "      <td>\\r\\nThe Russian military has likely recognized...</td>\n",
       "    </tr>\n",
       "    <tr>\n",
       "      <th>4</th>\n",
       "      <td>28-02-2022</td>\n",
       "      <td>The Russian military is reorganizing its milit...</td>\n",
       "    </tr>\n",
       "    <tr>\n",
       "      <th>5</th>\n",
       "      <td>01-03-2022</td>\n",
       "      <td>Russian forces are completing the reinforcemen...</td>\n",
       "    </tr>\n",
       "    <tr>\n",
       "      <th>6</th>\n",
       "      <td>02-03-2022</td>\n",
       "      <td>Russian forces resumed offensive operations in...</td>\n",
       "    </tr>\n",
       "    <tr>\n",
       "      <th>7</th>\n",
       "      <td>03-03-2022</td>\n",
       "      <td>The Russian military has continued its unsucce...</td>\n",
       "    </tr>\n",
       "    <tr>\n",
       "      <th>8</th>\n",
       "      <td>04-03-2022</td>\n",
       "      <td>Russian forces continue their focus on encircl...</td>\n",
       "    </tr>\n",
       "    <tr>\n",
       "      <th>9</th>\n",
       "      <td>05-03-2022</td>\n",
       "      <td>Russian forces in Ukraine may have entered a p...</td>\n",
       "    </tr>\n",
       "  </tbody>\n",
       "</table>\n",
       "</div>"
      ],
      "text/plain": [
       "   23-02-2022                                         Unnamed: 1\n",
       "0  24-02-2022  \\r\\nMason Clark, George Barros, and Kateryna S...\n",
       "1  25-02-2022  Key Takeaways\\r\\nRussian forces carried out ad...\n",
       "2  26-02-2022  Ukrainian resistance remains remarkably effect...\n",
       "3  27-02-2022  \\r\\nThe Russian military has likely recognized...\n",
       "4  28-02-2022  The Russian military is reorganizing its milit...\n",
       "5  01-03-2022  Russian forces are completing the reinforcemen...\n",
       "6  02-03-2022  Russian forces resumed offensive operations in...\n",
       "7  03-03-2022  The Russian military has continued its unsucce...\n",
       "8  04-03-2022  Russian forces continue their focus on encircl...\n",
       "9  05-03-2022  Russian forces in Ukraine may have entered a p..."
      ]
     },
     "execution_count": 18,
     "metadata": {},
     "output_type": "execute_result"
    }
   ],
   "source": [
    "sw.head(10)"
   ]
  },
  {
   "cell_type": "code",
   "execution_count": 19,
   "id": "0830f13d-1f8f-4fa5-9a37-c31c9542882e",
   "metadata": {},
   "outputs": [
    {
     "data": {
      "text/html": [
       "<div>\n",
       "<style scoped>\n",
       "    .dataframe tbody tr th:only-of-type {\n",
       "        vertical-align: middle;\n",
       "    }\n",
       "\n",
       "    .dataframe tbody tr th {\n",
       "        vertical-align: top;\n",
       "    }\n",
       "\n",
       "    .dataframe thead th {\n",
       "        text-align: right;\n",
       "    }\n",
       "</style>\n",
       "<table border=\"1\" class=\"dataframe\">\n",
       "  <thead>\n",
       "    <tr style=\"text-align: right;\">\n",
       "      <th></th>\n",
       "      <th>23-02-2022</th>\n",
       "      <th>Unnamed: 1</th>\n",
       "    </tr>\n",
       "  </thead>\n",
       "  <tbody>\n",
       "    <tr>\n",
       "      <th>169</th>\n",
       "      <td>12-08-2022</td>\n",
       "      <td>NaN</td>\n",
       "    </tr>\n",
       "    <tr>\n",
       "      <th>273</th>\n",
       "      <td>24-11-2022</td>\n",
       "      <td>NaN</td>\n",
       "    </tr>\n",
       "    <tr>\n",
       "      <th>304</th>\n",
       "      <td>25-12-2022</td>\n",
       "      <td>NaN</td>\n",
       "    </tr>\n",
       "    <tr>\n",
       "      <th>311</th>\n",
       "      <td>01-01-2023</td>\n",
       "      <td>NaN</td>\n",
       "    </tr>\n",
       "  </tbody>\n",
       "</table>\n",
       "</div>"
      ],
      "text/plain": [
       "     23-02-2022 Unnamed: 1\n",
       "169  12-08-2022        NaN\n",
       "273  24-11-2022        NaN\n",
       "304  25-12-2022        NaN\n",
       "311  01-01-2023        NaN"
      ]
     },
     "execution_count": 19,
     "metadata": {},
     "output_type": "execute_result"
    }
   ],
   "source": [
    "sw[sw[\"Unnamed: 1\"].isna()]\n",
    "#need to include 12-08-2022"
   ]
  },
  {
   "cell_type": "code",
   "execution_count": 20,
   "id": "24f28384-f41c-490e-b29e-089aeaff0789",
   "metadata": {},
   "outputs": [
    {
     "data": {
      "text/html": [
       "<div>\n",
       "<style scoped>\n",
       "    .dataframe tbody tr th:only-of-type {\n",
       "        vertical-align: middle;\n",
       "    }\n",
       "\n",
       "    .dataframe tbody tr th {\n",
       "        vertical-align: top;\n",
       "    }\n",
       "\n",
       "    .dataframe thead th {\n",
       "        text-align: right;\n",
       "    }\n",
       "</style>\n",
       "<table border=\"1\" class=\"dataframe\">\n",
       "  <thead>\n",
       "    <tr style=\"text-align: right;\">\n",
       "      <th></th>\n",
       "      <th>Date</th>\n",
       "      <th>Report</th>\n",
       "    </tr>\n",
       "  </thead>\n",
       "  <tbody>\n",
       "    <tr>\n",
       "      <th>0</th>\n",
       "      <td>24-02-2022</td>\n",
       "      <td>\\r\\nMason Clark, George Barros, and Kateryna S...</td>\n",
       "    </tr>\n",
       "    <tr>\n",
       "      <th>1</th>\n",
       "      <td>25-02-2022</td>\n",
       "      <td>Key Takeaways\\r\\nRussian forces carried out ad...</td>\n",
       "    </tr>\n",
       "    <tr>\n",
       "      <th>2</th>\n",
       "      <td>26-02-2022</td>\n",
       "      <td>Ukrainian resistance remains remarkably effect...</td>\n",
       "    </tr>\n",
       "  </tbody>\n",
       "</table>\n",
       "</div>"
      ],
      "text/plain": [
       "         Date                                             Report\n",
       "0  24-02-2022  \\r\\nMason Clark, George Barros, and Kateryna S...\n",
       "1  25-02-2022  Key Takeaways\\r\\nRussian forces carried out ad...\n",
       "2  26-02-2022  Ukrainian resistance remains remarkably effect..."
      ]
     },
     "execution_count": 20,
     "metadata": {},
     "output_type": "execute_result"
    }
   ],
   "source": [
    "sw.rename(columns={'23-02-2022': 'Date', 'Unnamed: 1': 'Report'}, inplace=True)\n",
    "sw.head(3)"
   ]
  },
  {
   "cell_type": "code",
   "execution_count": 21,
   "id": "10910641-0aea-4d97-b841-53041b816920",
   "metadata": {},
   "outputs": [
    {
     "data": {
      "text/plain": [
       "'\\r\\nMason Clark, George Barros, and Kateryna Stepanenko\\r\\nFebruary 24, 3:00 pm EST\\r\\nRussian President Vladimir Putin began a large-scale invasion of Ukraine on February 24 likely aimed at full regime change and the occupation of Ukraine.\\xa0His claimed objective to “demilitarize” and “de-nazify” Ukraine is a transparent cover for an unprovoked war of aggression to occupy a neighboring state. Putin and Kremlin media continue to deny that the Russian invasion is a war, instead describing it as a special military operation.[1]\\xa0Putin’s messaging is likely aimed at a domestic Russian audience, which the Kremlin has not fully prepared for the costs of a war against Ukraine. Russian officials and state media have been denying and mocking Western warnings of the impending Russian invasion for months and as recently as February 23.[2]\\xa0\\xa0Russian forces remain much larger and more capable than Ukraine’s conventional military. Russia will likely defeat Ukrainian regular military forces and secure their territorial objectives at some point in the coming days or weeks if Putin is determined to do so and willing to pay the cost in blood and treasure.\\r\\nKey Takeaways\\r\\nRussian military operations began with a short and incomplete air campaign on February 24 around 4:00 am local time targeting Ukrainian air defenses, supply depots, and airfields across unoccupied Ukraine. However, portions of the Ukrainian Air Force remain operational and Ukrainian command and control appears intact.\\xa0\\xa0\\r\\nUkrainian forces are currently contesting the Hostomel military airport, 20 km northwest of Kyiv, against Russian VDV (airborne) troops likely from the 31st Guards Air Assault Brigade as of 9:30 pm local time after several unsuccessful counterattacks earlier in the day.[7]\\xa0Russian airborne forces were additionally unable to secure the Boryspil airport (Kyiv’s primary international airport), southeast of Kyiv.[8]\\xa0Ukraine’s contestation of the airport prevents Russia from airlifting reinforcements to isolate Kyiv from western Ukraine, as feared earlier in the day.\\r\\nRussian ground forces are advancing on four primary axes, discussed in turn below:\\r\\n1) Belarus/Kyiv axis: Russian forces in Belarus are advancing on Kyiv along both sides of the Dnipro River, likely seeking to isolate Kyiv. Russian forces have made greater progress west of the Dnipro, successfully securing the Chernobyl exclusion zone.\\r\\n2) Kharkiv axis: Russian forces, including confirmed elements of the 1st Guards Tank Army, are conducting a frontal assault on Kharkiv from northeastern Ukraine.[12]\\xa0Ukrainian forces are temporarily halting Russian advances but Russian forces will likely enter Kharkiv before the end of the day.\\r\\n3) Donbas axis: Russian forces, likely elements of the 8th Combined Arms Army, are conducting an envelopment through Luhansk Oblast rather than a frontal assault from the Russian-occupied Donbas. Russian forces likely seek to cut off Ukrainian forces on the line of contact and/or drive them out of their prepared defensive positions, forcing them to fight in the open.\\r\\n4) Russian forces are making their greatest territorial gains advancing north from Crimea. Russian forces have reportedly penetrated to a depth of at least 60 km and captured Kherson city, securing access to the Crimean Canal.[20]\\xa0President Zelensky identified the attack from Crimea as the “most problematic situation.”[21]\\r\\nImmediate items to watch\\r\\n\\xa0\\r\\n\\xa0'"
      ]
     },
     "execution_count": 21,
     "metadata": {},
     "output_type": "execute_result"
    }
   ],
   "source": [
    "sw.loc[0, 'Report']"
   ]
  },
  {
   "cell_type": "code",
   "execution_count": 22,
   "id": "ddcf76e3-a9e0-4756-be5e-7b1271a1748b",
   "metadata": {},
   "outputs": [],
   "source": [
    "def clean_text(text):\n",
    "    if pd.isnull(text):\n",
    "        return text\n",
    "    #Replacing \"\\r\\n\", \"\\xa0\" with a space\n",
    "    text = text.replace(\"\\r\\n\", \" \")\n",
    "    text = text.replace(\"\\xa0\", \" \")\n",
    "    return text\n",
    "\n",
    "#Applies to all rows of the column \"Report\"\n",
    "sw['Report'] = sw['Report'].apply(clean_text)"
   ]
  },
  {
   "cell_type": "code",
   "execution_count": 23,
   "id": "ba1d276c-afb4-4656-817a-791a05070abe",
   "metadata": {},
   "outputs": [
    {
     "data": {
      "text/plain": [
       "' Mason Clark, George Barros, and Kateryna Stepanenko February 24, 3:00 pm EST Russian President Vladimir Putin began a large-scale invasion of Ukraine on February 24 likely aimed at full regime change and the occupation of Ukraine. His claimed objective to “demilitarize” and “de-nazify” Ukraine is a transparent cover for an unprovoked war of aggression to occupy a neighboring state. Putin and Kremlin media continue to deny that the Russian invasion is a war, instead describing it as a special military operation.[1] Putin’s messaging is likely aimed at a domestic Russian audience, which the Kremlin has not fully prepared for the costs of a war against Ukraine. Russian officials and state media have been denying and mocking Western warnings of the impending Russian invasion for months and as recently as February 23.[2]  Russian forces remain much larger and more capable than Ukraine’s conventional military. Russia will likely defeat Ukrainian regular military forces and secure their territorial objectives at some point in the coming days or weeks if Putin is determined to do so and willing to pay the cost in blood and treasure. Key Takeaways Russian military operations began with a short and incomplete air campaign on February 24 around 4:00 am local time targeting Ukrainian air defenses, supply depots, and airfields across unoccupied Ukraine. However, portions of the Ukrainian Air Force remain operational and Ukrainian command and control appears intact.   Ukrainian forces are currently contesting the Hostomel military airport, 20 km northwest of Kyiv, against Russian VDV (airborne) troops likely from the 31st Guards Air Assault Brigade as of 9:30 pm local time after several unsuccessful counterattacks earlier in the day.[7] Russian airborne forces were additionally unable to secure the Boryspil airport (Kyiv’s primary international airport), southeast of Kyiv.[8] Ukraine’s contestation of the airport prevents Russia from airlifting reinforcements to isolate Kyiv from western Ukraine, as feared earlier in the day. Russian ground forces are advancing on four primary axes, discussed in turn below: 1) Belarus/Kyiv axis: Russian forces in Belarus are advancing on Kyiv along both sides of the Dnipro River, likely seeking to isolate Kyiv. Russian forces have made greater progress west of the Dnipro, successfully securing the Chernobyl exclusion zone. 2) Kharkiv axis: Russian forces, including confirmed elements of the 1st Guards Tank Army, are conducting a frontal assault on Kharkiv from northeastern Ukraine.[12] Ukrainian forces are temporarily halting Russian advances but Russian forces will likely enter Kharkiv before the end of the day. 3) Donbas axis: Russian forces, likely elements of the 8th Combined Arms Army, are conducting an envelopment through Luhansk Oblast rather than a frontal assault from the Russian-occupied Donbas. Russian forces likely seek to cut off Ukrainian forces on the line of contact and/or drive them out of their prepared defensive positions, forcing them to fight in the open. 4) Russian forces are making their greatest territorial gains advancing north from Crimea. Russian forces have reportedly penetrated to a depth of at least 60 km and captured Kherson city, securing access to the Crimean Canal.[20] President Zelensky identified the attack from Crimea as the “most problematic situation.”[21] Immediate items to watch    '"
      ]
     },
     "execution_count": 23,
     "metadata": {},
     "output_type": "execute_result"
    }
   ],
   "source": [
    "sw.loc[0, 'Report']"
   ]
  },
  {
   "cell_type": "code",
   "execution_count": null,
   "id": "ad59f4c5-8ea1-4b66-abb2-677637b12b6d",
   "metadata": {},
   "outputs": [],
   "source": []
  }
 ],
 "metadata": {
  "kernelspec": {
   "display_name": "Python 3 (ipykernel)",
   "language": "python",
   "name": "python3"
  },
  "language_info": {
   "codemirror_mode": {
    "name": "ipython",
    "version": 3
   },
   "file_extension": ".py",
   "mimetype": "text/x-python",
   "name": "python",
   "nbconvert_exporter": "python",
   "pygments_lexer": "ipython3",
   "version": "3.8.0"
  }
 },
 "nbformat": 4,
 "nbformat_minor": 5
}
