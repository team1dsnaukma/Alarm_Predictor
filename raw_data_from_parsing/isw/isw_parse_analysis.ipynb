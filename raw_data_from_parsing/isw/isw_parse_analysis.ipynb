{
 "cells": [
  {
   "cell_type": "code",
   "execution_count": 2,
   "id": "05fd6b4c",
   "metadata": {},
   "outputs": [],
   "source": [
    "import csv\n",
    "import pandas as pd"
   ]
  },
  {
   "cell_type": "code",
   "execution_count": 3,
   "id": "73a83890",
   "metadata": {
    "scrolled": true
   },
   "outputs": [],
   "source": [
    "raw = pd.read_csv(\"isw.csv\")"
   ]
  },
  {
   "cell_type": "code",
   "execution_count": 4,
   "id": "11e15b17",
   "metadata": {},
   "outputs": [
    {
     "data": {
      "text/html": [
       "<div>\n",
       "<style scoped>\n",
       "    .dataframe tbody tr th:only-of-type {\n",
       "        vertical-align: middle;\n",
       "    }\n",
       "\n",
       "    .dataframe tbody tr th {\n",
       "        vertical-align: top;\n",
       "    }\n",
       "\n",
       "    .dataframe thead th {\n",
       "        text-align: right;\n",
       "    }\n",
       "</style>\n",
       "<table border=\"1\" class=\"dataframe\">\n",
       "  <thead>\n",
       "    <tr style=\"text-align: right;\">\n",
       "      <th></th>\n",
       "      <th>Date</th>\n",
       "      <th>Info</th>\n",
       "    </tr>\n",
       "  </thead>\n",
       "  <tbody>\n",
       "    <tr>\n",
       "      <th>326</th>\n",
       "      <td>16-01-2023</td>\n",
       "      <td>The Kremlin continues to publicly challenge Wa...</td>\n",
       "    </tr>\n",
       "    <tr>\n",
       "      <th>327</th>\n",
       "      <td>17-01-2023</td>\n",
       "      <td>Russian Defense Minister Sergey Shoigu announ...</td>\n",
       "    </tr>\n",
       "    <tr>\n",
       "      <th>328</th>\n",
       "      <td>18-01-2023</td>\n",
       "      <td>Russian President Vladimir Putin’s speech com...</td>\n",
       "    </tr>\n",
       "    <tr>\n",
       "      <th>329</th>\n",
       "      <td>19-01-2023</td>\n",
       "      <td>Senior Kremlin officials continue holding high...</td>\n",
       "    </tr>\n",
       "    <tr>\n",
       "      <th>330</th>\n",
       "      <td>20-01-2023</td>\n",
       "      <td>Head of the Chechen Republic Ramzan Kadyrov c...</td>\n",
       "    </tr>\n",
       "    <tr>\n",
       "      <th>331</th>\n",
       "      <td>21-01-2023</td>\n",
       "      <td>The Ukrainian defense of Bakhmut is likely a s...</td>\n",
       "    </tr>\n",
       "    <tr>\n",
       "      <th>332</th>\n",
       "      <td>22-01-2023</td>\n",
       "      <td>January 22, 8:30 pm ET\\r\\nISW is publishing an...</td>\n",
       "    </tr>\n",
       "    <tr>\n",
       "      <th>333</th>\n",
       "      <td>23-01-2023</td>\n",
       "      <td>January 23, 9:45pm ET \\r\\nUkrainian intelligen...</td>\n",
       "    </tr>\n",
       "    <tr>\n",
       "      <th>334</th>\n",
       "      <td>24-01-2023</td>\n",
       "      <td>A coalition of NATO member states reportedly w...</td>\n",
       "    </tr>\n",
       "    <tr>\n",
       "      <th>335</th>\n",
       "      <td>25-01-2023</td>\n",
       "      <td>Russian forces may be engaging in limited spo...</td>\n",
       "    </tr>\n",
       "  </tbody>\n",
       "</table>\n",
       "</div>"
      ],
      "text/plain": [
       "           Date                                               Info\n",
       "326  16-01-2023  The Kremlin continues to publicly challenge Wa...\n",
       "327  17-01-2023   Russian Defense Minister Sergey Shoigu announ...\n",
       "328  18-01-2023   Russian President Vladimir Putin’s speech com...\n",
       "329  19-01-2023  Senior Kremlin officials continue holding high...\n",
       "330  20-01-2023   Head of the Chechen Republic Ramzan Kadyrov c...\n",
       "331  21-01-2023  The Ukrainian defense of Bakhmut is likely a s...\n",
       "332  22-01-2023  January 22, 8:30 pm ET\\r\\nISW is publishing an...\n",
       "333  23-01-2023  January 23, 9:45pm ET \\r\\nUkrainian intelligen...\n",
       "334  24-01-2023  A coalition of NATO member states reportedly w...\n",
       "335  25-01-2023   Russian forces may be engaging in limited spo..."
      ]
     },
     "execution_count": 4,
     "metadata": {},
     "output_type": "execute_result"
    }
   ],
   "source": [
    "raw.tail(10)\n",
    "# 25-01-2023 not included"
   ]
  },
  {
   "cell_type": "code",
   "execution_count": 5,
   "id": "54ba911c",
   "metadata": {},
   "outputs": [
    {
     "data": {
      "text/plain": [
       "169    12-08-2022\n",
       "273    24-11-2022\n",
       "304    25-12-2022\n",
       "311    01-01-2023\n",
       "Name: Date, dtype: object"
      ]
     },
     "execution_count": 5,
     "metadata": {},
     "output_type": "execute_result"
    }
   ],
   "source": [
    "raw[raw.iloc[:, 1].isna()].iloc[:, 0]"
   ]
  }
 ],
 "metadata": {
  "kernelspec": {
   "display_name": "Python 3 (ipykernel)",
   "language": "python",
   "name": "python3"
  },
  "language_info": {
   "codemirror_mode": {
    "name": "ipython",
    "version": 3
   },
   "file_extension": ".py",
   "mimetype": "text/x-python",
   "name": "python",
   "nbconvert_exporter": "python",
   "pygments_lexer": "ipython3",
   "version": "3.7.4"
  }
 },
 "nbformat": 4,
 "nbformat_minor": 5
}
