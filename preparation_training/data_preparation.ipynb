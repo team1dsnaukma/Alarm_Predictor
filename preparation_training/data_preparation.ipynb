{
 "cells": [
  {
   "cell_type": "code",
   "execution_count": 67,
   "metadata": {},
   "outputs": [],
   "source": [
    "import regex as re\n",
    "import pandas as pd\n",
    "import matplotlib.pyplot as plt"
   ]
  },
  {
   "cell_type": "code",
   "execution_count": 87,
   "metadata": {},
   "outputs": [],
   "source": [
    "import nltk\n",
    "from nltk.stem import WordNetLemmatizer\n",
    "from nltk.tokenize import word_tokenize, sent_tokenize\n",
    "from nltk.corpus import stopwords"
   ]
  },
  {
   "cell_type": "code",
   "execution_count": 53,
   "metadata": {
    "scrolled": true
   },
   "outputs": [],
   "source": [
    "from sklearn.feature_extraction.text import TfidfVectorizer"
   ]
  },
  {
   "cell_type": "code",
   "execution_count": 28,
   "metadata": {},
   "outputs": [],
   "source": [
    "isw_data = pd.read_csv(\"..\\clean_data\\isw.csv\")"
   ]
  },
  {
   "cell_type": "code",
   "execution_count": 25,
   "metadata": {},
   "outputs": [],
   "source": [
    "tg_messages = pd.read_csv(\"..\\clean_data\\preprocessed_tg.csv\")"
   ]
  },
  {
   "cell_type": "code",
   "execution_count": 26,
   "metadata": {},
   "outputs": [
    {
     "data": {
      "text/html": [
       "<div>\n",
       "<style scoped>\n",
       "    .dataframe tbody tr th:only-of-type {\n",
       "        vertical-align: middle;\n",
       "    }\n",
       "\n",
       "    .dataframe tbody tr th {\n",
       "        vertical-align: top;\n",
       "    }\n",
       "\n",
       "    .dataframe thead th {\n",
       "        text-align: right;\n",
       "    }\n",
       "</style>\n",
       "<table border=\"1\" class=\"dataframe\">\n",
       "  <thead>\n",
       "    <tr style=\"text-align: right;\">\n",
       "      <th></th>\n",
       "      <th>time</th>\n",
       "      <th>date</th>\n",
       "      <th>message</th>\n",
       "    </tr>\n",
       "  </thead>\n",
       "  <tbody>\n",
       "    <tr>\n",
       "      <th>0</th>\n",
       "      <td>23:40:45</td>\n",
       "      <td>2023-01-25</td>\n",
       "      <td>ще декілька бпла на лінії фронту у запорізькій...</td>\n",
       "    </tr>\n",
       "    <tr>\n",
       "      <th>1</th>\n",
       "      <td>23:23:13</td>\n",
       "      <td>2023-01-25</td>\n",
       "      <td>збиваються цілі на півдні про кожну не пишемо</td>\n",
       "    </tr>\n",
       "    <tr>\n",
       "      <th>2</th>\n",
       "      <td>23:09:57</td>\n",
       "      <td>2023-01-25</td>\n",
       "      <td>дніпро робота ппо</td>\n",
       "    </tr>\n",
       "    <tr>\n",
       "      <th>3</th>\n",
       "      <td>22:58:42</td>\n",
       "      <td>2023-01-25</td>\n",
       "      <td>загрози ту22м3 на даний момент немає тільки бпла</td>\n",
       "    </tr>\n",
       "    <tr>\n",
       "      <th>4</th>\n",
       "      <td>22:41:15</td>\n",
       "      <td>2023-01-25</td>\n",
       "      <td>є збиття бпла по півдню</td>\n",
       "    </tr>\n",
       "  </tbody>\n",
       "</table>\n",
       "</div>"
      ],
      "text/plain": [
       "       time        date                                            message\n",
       "0  23:40:45  2023-01-25  ще декілька бпла на лінії фронту у запорізькій...\n",
       "1  23:23:13  2023-01-25      збиваються цілі на півдні про кожну не пишемо\n",
       "2  23:09:57  2023-01-25                                  дніпро робота ппо\n",
       "3  22:58:42  2023-01-25   загрози ту22м3 на даний момент немає тільки бпла\n",
       "4  22:41:15  2023-01-25                            є збиття бпла по півдню"
      ]
     },
     "execution_count": 26,
     "metadata": {},
     "output_type": "execute_result"
    }
   ],
   "source": [
    "tg_messages.head()"
   ]
  },
  {
   "cell_type": "code",
   "execution_count": 29,
   "metadata": {
    "scrolled": true
   },
   "outputs": [
    {
     "data": {
      "text/html": [
       "<div>\n",
       "<style scoped>\n",
       "    .dataframe tbody tr th:only-of-type {\n",
       "        vertical-align: middle;\n",
       "    }\n",
       "\n",
       "    .dataframe tbody tr th {\n",
       "        vertical-align: top;\n",
       "    }\n",
       "\n",
       "    .dataframe thead th {\n",
       "        text-align: right;\n",
       "    }\n",
       "</style>\n",
       "<table border=\"1\" class=\"dataframe\">\n",
       "  <thead>\n",
       "    <tr style=\"text-align: right;\">\n",
       "      <th></th>\n",
       "      <th>date</th>\n",
       "      <th>title</th>\n",
       "      <th>url</th>\n",
       "      <th>html</th>\n",
       "      <th>main_text</th>\n",
       "    </tr>\n",
       "  </thead>\n",
       "  <tbody>\n",
       "    <tr>\n",
       "      <th>0</th>\n",
       "      <td>24-02-2022</td>\n",
       "      <td>Russia-Ukraine Warning Update: Initial Russian...</td>\n",
       "      <td>https://www.understandingwar.org/backgrounder/...</td>\n",
       "      <td>&lt;!DOCTYPE html&gt;\\r\\n\\r\\n&lt;html dir=\"ltr\" lang=\"e...</td>\n",
       "      <td>february 24, 3:00 pm est russian president vla...</td>\n",
       "    </tr>\n",
       "    <tr>\n",
       "      <th>1</th>\n",
       "      <td>25-02-2022</td>\n",
       "      <td>Russia-Ukraine Warning Update: Russian Offensi...</td>\n",
       "      <td>https://www.understandingwar.org/backgrounder/...</td>\n",
       "      <td>&lt;!DOCTYPE html&gt;\\r\\n\\r\\n&lt;html dir=\"ltr\" lang=\"e...</td>\n",
       "      <td>russian forces carried out additional air and ...</td>\n",
       "    </tr>\n",
       "    <tr>\n",
       "      <th>2</th>\n",
       "      <td>26-02-2022</td>\n",
       "      <td>Russia-Ukraine Warning Update: Russian Offensi...</td>\n",
       "      <td>https://www.understandingwar.org/backgrounder/...</td>\n",
       "      <td>&lt;!DOCTYPE html&gt;\\r\\n\\r\\n&lt;html dir=\"ltr\" lang=\"e...</td>\n",
       "      <td>russia has surprisingly failed to gain air sup...</td>\n",
       "    </tr>\n",
       "    <tr>\n",
       "      <th>3</th>\n",
       "      <td>27-02-2022</td>\n",
       "      <td>Russia-Ukraine Warning Update: Russian Offensi...</td>\n",
       "      <td>https://www.understandingwar.org/backgrounder/...</td>\n",
       "      <td>&lt;!DOCTYPE html&gt;\\r\\n\\r\\n&lt;html dir=\"ltr\" lang=\"e...</td>\n",
       "      <td>february 27, 4pm est the russian military has ...</td>\n",
       "    </tr>\n",
       "    <tr>\n",
       "      <th>4</th>\n",
       "      <td>28-02-2022</td>\n",
       "      <td>Russian Offensive Campaign Assessment, Februar...</td>\n",
       "      <td>https://www.understandingwar.org/backgrounder/...</td>\n",
       "      <td>&lt;!DOCTYPE html&gt;\\r\\n\\r\\n&lt;html dir=\"ltr\" lang=\"e...</td>\n",
       "      <td>february 28, 3:30pm est the russian military i...</td>\n",
       "    </tr>\n",
       "  </tbody>\n",
       "</table>\n",
       "</div>"
      ],
      "text/plain": [
       "         date                                              title  \\\n",
       "0  24-02-2022  Russia-Ukraine Warning Update: Initial Russian...   \n",
       "1  25-02-2022  Russia-Ukraine Warning Update: Russian Offensi...   \n",
       "2  26-02-2022  Russia-Ukraine Warning Update: Russian Offensi...   \n",
       "3  27-02-2022  Russia-Ukraine Warning Update: Russian Offensi...   \n",
       "4  28-02-2022  Russian Offensive Campaign Assessment, Februar...   \n",
       "\n",
       "                                                 url  \\\n",
       "0  https://www.understandingwar.org/backgrounder/...   \n",
       "1  https://www.understandingwar.org/backgrounder/...   \n",
       "2  https://www.understandingwar.org/backgrounder/...   \n",
       "3  https://www.understandingwar.org/backgrounder/...   \n",
       "4  https://www.understandingwar.org/backgrounder/...   \n",
       "\n",
       "                                                html  \\\n",
       "0  <!DOCTYPE html>\\r\\n\\r\\n<html dir=\"ltr\" lang=\"e...   \n",
       "1  <!DOCTYPE html>\\r\\n\\r\\n<html dir=\"ltr\" lang=\"e...   \n",
       "2  <!DOCTYPE html>\\r\\n\\r\\n<html dir=\"ltr\" lang=\"e...   \n",
       "3  <!DOCTYPE html>\\r\\n\\r\\n<html dir=\"ltr\" lang=\"e...   \n",
       "4  <!DOCTYPE html>\\r\\n\\r\\n<html dir=\"ltr\" lang=\"e...   \n",
       "\n",
       "                                           main_text  \n",
       "0  february 24, 3:00 pm est russian president vla...  \n",
       "1  russian forces carried out additional air and ...  \n",
       "2  russia has surprisingly failed to gain air sup...  \n",
       "3  february 27, 4pm est the russian military has ...  \n",
       "4  february 28, 3:30pm est the russian military i...  "
      ]
     },
     "execution_count": 29,
     "metadata": {},
     "output_type": "execute_result"
    }
   ],
   "source": [
    "isw_data.head()"
   ]
  },
  {
   "cell_type": "code",
   "execution_count": 32,
   "metadata": {},
   "outputs": [],
   "source": [
    "# test text vectorization \n",
    "isw_text_data = isw_data[[\"date\", \"main_text\"]]"
   ]
  },
  {
   "cell_type": "code",
   "execution_count": 34,
   "metadata": {},
   "outputs": [
    {
     "data": {
      "text/html": [
       "<div>\n",
       "<style scoped>\n",
       "    .dataframe tbody tr th:only-of-type {\n",
       "        vertical-align: middle;\n",
       "    }\n",
       "\n",
       "    .dataframe tbody tr th {\n",
       "        vertical-align: top;\n",
       "    }\n",
       "\n",
       "    .dataframe thead th {\n",
       "        text-align: right;\n",
       "    }\n",
       "</style>\n",
       "<table border=\"1\" class=\"dataframe\">\n",
       "  <thead>\n",
       "    <tr style=\"text-align: right;\">\n",
       "      <th></th>\n",
       "      <th>date</th>\n",
       "      <th>main_text</th>\n",
       "    </tr>\n",
       "  </thead>\n",
       "  <tbody>\n",
       "    <tr>\n",
       "      <th>0</th>\n",
       "      <td>24-02-2022</td>\n",
       "      <td>february 24, 3:00 pm est russian president vla...</td>\n",
       "    </tr>\n",
       "    <tr>\n",
       "      <th>1</th>\n",
       "      <td>25-02-2022</td>\n",
       "      <td>russian forces carried out additional air and ...</td>\n",
       "    </tr>\n",
       "    <tr>\n",
       "      <th>2</th>\n",
       "      <td>26-02-2022</td>\n",
       "      <td>russia has surprisingly failed to gain air sup...</td>\n",
       "    </tr>\n",
       "    <tr>\n",
       "      <th>3</th>\n",
       "      <td>27-02-2022</td>\n",
       "      <td>february 27, 4pm est the russian military has ...</td>\n",
       "    </tr>\n",
       "    <tr>\n",
       "      <th>4</th>\n",
       "      <td>28-02-2022</td>\n",
       "      <td>february 28, 3:30pm est the russian military i...</td>\n",
       "    </tr>\n",
       "  </tbody>\n",
       "</table>\n",
       "</div>"
      ],
      "text/plain": [
       "         date                                          main_text\n",
       "0  24-02-2022  february 24, 3:00 pm est russian president vla...\n",
       "1  25-02-2022  russian forces carried out additional air and ...\n",
       "2  26-02-2022  russia has surprisingly failed to gain air sup...\n",
       "3  27-02-2022  february 27, 4pm est the russian military has ...\n",
       "4  28-02-2022  february 28, 3:30pm est the russian military i..."
      ]
     },
     "execution_count": 34,
     "metadata": {},
     "output_type": "execute_result"
    }
   ],
   "source": [
    "isw_text_data.head()"
   ]
  },
  {
   "cell_type": "code",
   "execution_count": 66,
   "metadata": {},
   "outputs": [],
   "source": [
    "itd_0 = isw_text_data.iloc[0, :][1]"
   ]
  },
  {
   "cell_type": "markdown",
   "metadata": {},
   "source": [
    "Remove:\n",
    "1) Stop words.\n",
    "2) Digits.\n",
    "3) Non-word and non-whitespace characters."
   ]
  },
  {
   "cell_type": "code",
   "execution_count": 80,
   "metadata": {},
   "outputs": [],
   "source": [
    "stop_words = stopwords.words(\"english\")\n",
    "itd_0_new = [re.sub('[\\W\\s\\d]', ' ', itd_0) for row in [itd_0] if (len(row) > 2 and row not in stop_words)]"
   ]
  },
  {
   "cell_type": "code",
   "execution_count": 91,
   "metadata": {},
   "outputs": [],
   "source": [
    "def to_vector_preprocessing(text, language=\"english\"):\n",
    "    processed_array = [] \n",
    "    lemmatizer = WordNetLemmatizer()\n",
    "    stop_words = stopwords.words(language)\n",
    "    text_array = sent_tokenize(re.sub('[\\W\\s\\d]', ' ', text))\n",
    "    for row in text_array:\n",
    "        processed_array.append(' '.join( \n",
    "            [\n",
    "            word for word in word_tokenize(row) \n",
    "            if (len(word) > 2 and word not in stop_words) \n",
    "            ] \n",
    "        ))\n",
    "    return processed_array"
   ]
  },
  {
   "cell_type": "code",
   "execution_count": 92,
   "metadata": {},
   "outputs": [
    {
     "data": {
      "text/plain": [
       "['february est russian president vladimir putin began large scale invasion ukraine february likely aimed full regime change occupation ukraine claimed objective demilitarize nazify ukraine transparent cover unprovoked war aggression occupy neighboring state putin kremlin media continue deny russian invasion war instead describing special military operation putin messaging likely aimed domestic russian audience kremlin fully prepared costs war ukraine russian officials state media denying mocking western warnings impending russian invasion months recently february russian forces remain much larger capable ukraine conventional military russia likely defeat ukrainian regular military forces secure territorial objectives point coming days weeks putin determined willing pay cost blood treasure key takeaways russian military operations began short incomplete air campaign february around local time targeting ukrainian air defenses supply depots airfields across unoccupied ukraine however portions ukrainian air force remain operational ukrainian command control appears intact ukrainian forces currently contesting hostomel military airport northwest kyiv russian vdv airborne troops likely guards air assault brigade local time several unsuccessful counterattacks earlier day russian airborne forces additionally unable secure boryspil airport kyiv primary international airport southeast kyiv ukraine contestation airport prevents russia airlifting reinforcements isolate kyiv western ukraine feared earlier day russian ground forces advancing four primary axes discussed turn belarus kyiv axis russian forces belarus advancing kyiv along sides dnipro river likely seeking isolate kyiv russian forces made greater progress west dnipro successfully securing chernobyl exclusion zone kharkiv axis russian forces including confirmed elements guards tank army conducting frontal assault kharkiv northeastern ukraine ukrainian forces temporarily halting russian advances russian forces likely enter kharkiv end day donbas axis russian forces likely elements combined arms army conducting envelopment luhansk oblast rather frontal assault russian occupied donbas russian forces likely seek cut ukrainian forces line contact drive prepared defensive positions forcing fight open russian forces making greatest territorial gains advancing north crimea russian forces reportedly penetrated depth least captured kherson city securing access crimean canal president zelensky identified attack crimea problematic situation']"
      ]
     },
     "execution_count": 92,
     "metadata": {},
     "output_type": "execute_result"
    }
   ],
   "source": [
    "to_vector_preprocessing(itd_0)"
   ]
  },
  {
   "cell_type": "code",
   "execution_count": null,
   "metadata": {},
   "outputs": [],
   "source": []
  },
  {
   "cell_type": "code",
   "execution_count": 62,
   "metadata": {},
   "outputs": [],
   "source": [
    "tokenized_0 = sent_tokenize(itd_0.values[1])"
   ]
  },
  {
   "cell_type": "code",
   "execution_count": 63,
   "metadata": {},
   "outputs": [
    {
     "data": {
      "text/plain": [
       "['february 24, 3:00 pm est russian president vladimir putin began a large-scale invasion of ukraine on february 24 likely aimed at full regime change and the occupation of ukraine.',\n",
       " 'his claimed objective to demilitarize and de-nazify ukraine is a transparent cover for an unprovoked war of aggression to occupy a neighboring state.',\n",
       " 'putin and kremlin media continue to deny that the russian invasion is a war, instead describing it as a special military operation.',\n",
       " 'putin’s messaging is likely aimed at a domestic russian audience, which the kremlin has not fully prepared for the costs of a war against ukraine.',\n",
       " 'russian officials and state media have been denying and mocking western warnings of the impending russian invasion for months and as recently as february 23. russian forces remain much larger and more capable than ukraine’s conventional military.',\n",
       " 'russia will likely defeat ukrainian regular military forces and secure their territorial objectives at some point in the coming days or weeks if putin is determined to do so and willing to pay the cost in blood and treasure.',\n",
       " 'key takeaways russian military operations began with a short and incomplete air campaign on february 24 around 4:00 am local time targeting ukrainian air defenses, supply depots, and airfields across unoccupied ukraine.',\n",
       " 'however, portions of the ukrainian air force remain operational and ukrainian command and control appears intact.',\n",
       " 'ukrainian forces are currently contesting the hostomel military airport, 20 km northwest of kyiv, against russian vdv (airborne) troops likely from the 31st guards air assault brigade as of 9:30 pm local time after several unsuccessful counterattacks earlier in the day.',\n",
       " 'russian airborne forces were additionally unable to secure the boryspil airport (kyiv’s primary international airport), southeast of kyiv.',\n",
       " 'ukraine’s contestation of the airport prevents russia from airlifting reinforcements to isolate kyiv from western ukraine, as feared earlier in the day.',\n",
       " 'russian ground forces are advancing on four primary axes, discussed in turn below: 1) belarus/kyiv axis: russian forces in belarus are advancing on kyiv along both sides of the dnipro river, likely seeking to isolate kyiv.',\n",
       " 'russian forces have made greater progress west of the dnipro, successfully securing the chernobyl exclusion zone.',\n",
       " '2) kharkiv axis: russian forces, including confirmed elements of the 1st guards tank army, are conducting a frontal assault on kharkiv from northeastern ukraine.',\n",
       " 'ukrainian forces are temporarily halting russian advances but russian forces will likely enter kharkiv before the end of the day.',\n",
       " '3) donbas axis: russian forces, likely elements of the 8th combined arms army, are conducting an envelopment through luhansk oblast rather than a frontal assault from the russian-occupied donbas.',\n",
       " 'russian forces likely seek to cut off ukrainian forces on the line of contact and/or drive them out of their prepared defensive positions, forcing them to fight in the open.',\n",
       " '4) russian forces are making their greatest territorial gains advancing north from crimea.',\n",
       " 'russian forces have reportedly penetrated to a depth of at least 60 km and captured kherson city, securing access to the crimean canal.',\n",
       " 'president zelensky identified the attack from crimea as the most problematic situation.']"
      ]
     },
     "execution_count": 63,
     "metadata": {},
     "output_type": "execute_result"
    }
   ],
   "source": [
    "tokenized_0"
   ]
  }
 ],
 "metadata": {
  "kernelspec": {
   "display_name": "Python 3 (ipykernel)",
   "language": "python",
   "name": "python3"
  },
  "language_info": {
   "codemirror_mode": {
    "name": "ipython",
    "version": 3
   },
   "file_extension": ".py",
   "mimetype": "text/x-python",
   "name": "python",
   "nbconvert_exporter": "python",
   "pygments_lexer": "ipython3",
   "version": "3.7.4"
  }
 },
 "nbformat": 4,
 "nbformat_minor": 1
}
