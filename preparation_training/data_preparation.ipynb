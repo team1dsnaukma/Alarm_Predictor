{
 "cells": [
  {
   "cell_type": "code",
   "execution_count": 5,
   "metadata": {},
   "outputs": [],
   "source": [
    "import pandas as pd\n",
    "import matplotlib.pyplot as plt"
   ]
  },
  {
   "cell_type": "code",
   "execution_count": 3,
   "metadata": {},
   "outputs": [],
   "source": [
    "import nltk\n",
    "from nltk.stem import WordNetLemmatizer\n",
    "from nltk import sent_tokenize"
   ]
  },
  {
   "cell_type": "code",
   "execution_count": 17,
   "metadata": {
    "scrolled": true
   },
   "outputs": [],
   "source": [
    "data_text = pd.read_csv(\"..\\clean_data\\isw_cleaned.csv\")"
   ]
  },
  {
   "cell_type": "code",
   "execution_count": 16,
   "metadata": {},
   "outputs": [],
   "source": [
    "messages_today = pd.read_csv(\"..\\clean_data\\messages_today.csv\")"
   ]
  },
  {
   "cell_type": "code",
   "execution_count": 25,
   "metadata": {},
   "outputs": [],
   "source": [
    "tg_messages = pd.read_csv(\"..\\clean_data\\preprocessed_tg.csv\")"
   ]
  },
  {
   "cell_type": "code",
   "execution_count": 26,
   "metadata": {},
   "outputs": [
    {
     "data": {
      "text/html": [
       "<div>\n",
       "<style scoped>\n",
       "    .dataframe tbody tr th:only-of-type {\n",
       "        vertical-align: middle;\n",
       "    }\n",
       "\n",
       "    .dataframe tbody tr th {\n",
       "        vertical-align: top;\n",
       "    }\n",
       "\n",
       "    .dataframe thead th {\n",
       "        text-align: right;\n",
       "    }\n",
       "</style>\n",
       "<table border=\"1\" class=\"dataframe\">\n",
       "  <thead>\n",
       "    <tr style=\"text-align: right;\">\n",
       "      <th></th>\n",
       "      <th>time</th>\n",
       "      <th>date</th>\n",
       "      <th>message</th>\n",
       "    </tr>\n",
       "  </thead>\n",
       "  <tbody>\n",
       "    <tr>\n",
       "      <th>0</th>\n",
       "      <td>23:40:45</td>\n",
       "      <td>2023-01-25</td>\n",
       "      <td>ще декілька бпла на лінії фронту у запорізькій...</td>\n",
       "    </tr>\n",
       "    <tr>\n",
       "      <th>1</th>\n",
       "      <td>23:23:13</td>\n",
       "      <td>2023-01-25</td>\n",
       "      <td>збиваються цілі на півдні про кожну не пишемо</td>\n",
       "    </tr>\n",
       "    <tr>\n",
       "      <th>2</th>\n",
       "      <td>23:09:57</td>\n",
       "      <td>2023-01-25</td>\n",
       "      <td>дніпро робота ппо</td>\n",
       "    </tr>\n",
       "    <tr>\n",
       "      <th>3</th>\n",
       "      <td>22:58:42</td>\n",
       "      <td>2023-01-25</td>\n",
       "      <td>загрози ту22м3 на даний момент немає тільки бпла</td>\n",
       "    </tr>\n",
       "    <tr>\n",
       "      <th>4</th>\n",
       "      <td>22:41:15</td>\n",
       "      <td>2023-01-25</td>\n",
       "      <td>є збиття бпла по півдню</td>\n",
       "    </tr>\n",
       "  </tbody>\n",
       "</table>\n",
       "</div>"
      ],
      "text/plain": [
       "       time        date                                            message\n",
       "0  23:40:45  2023-01-25  ще декілька бпла на лінії фронту у запорізькій...\n",
       "1  23:23:13  2023-01-25      збиваються цілі на півдні про кожну не пишемо\n",
       "2  23:09:57  2023-01-25                                  дніпро робота ппо\n",
       "3  22:58:42  2023-01-25   загрози ту22м3 на даний момент немає тільки бпла\n",
       "4  22:41:15  2023-01-25                            є збиття бпла по півдню"
      ]
     },
     "execution_count": 26,
     "metadata": {},
     "output_type": "execute_result"
    }
   ],
   "source": [
    "tg_messages.head()"
   ]
  },
  {
   "cell_type": "code",
   "execution_count": 27,
   "metadata": {},
   "outputs": [
    {
     "data": {
      "text/html": [
       "<div>\n",
       "<style scoped>\n",
       "    .dataframe tbody tr th:only-of-type {\n",
       "        vertical-align: middle;\n",
       "    }\n",
       "\n",
       "    .dataframe tbody tr th {\n",
       "        vertical-align: top;\n",
       "    }\n",
       "\n",
       "    .dataframe thead th {\n",
       "        text-align: right;\n",
       "    }\n",
       "</style>\n",
       "<table border=\"1\" class=\"dataframe\">\n",
       "  <thead>\n",
       "    <tr style=\"text-align: right;\">\n",
       "      <th></th>\n",
       "      <th></th>\n",
       "      <th></th>\n",
       "      <th></th>\n",
       "      <th>time</th>\n",
       "      <th>date</th>\n",
       "      <th>message</th>\n",
       "    </tr>\n",
       "  </thead>\n",
       "  <tbody>\n",
       "    <tr>\n",
       "      <th>09:58:00</th>\n",
       "      <th>2024-03-03</th>\n",
       "      <th>рятувальники  виявили  у  завалах  тіла  ще  двох  загиблих  внаслідок  удару  по  одесі  у  ніч  на  3  березня  це  жінка  і  немовля</th>\n",
       "      <th>якому</th>\n",
       "      <td>ймовірно</td>\n",
       "      <td>менше  року</td>\n",
       "      <td>повідомляє  голова  одеської  ова  олег  кіп...</td>\n",
       "    </tr>\n",
       "    <tr>\n",
       "      <th>09:25:41</th>\n",
       "      <th>2024-03-03</th>\n",
       "      <th>третя  хвиля  пусків  каб  по  лбз  в  двох  областях.</th>\n",
       "      <th>NaN</th>\n",
       "      <td>NaN</td>\n",
       "      <td>NaN</td>\n",
       "      <td>NaN</td>\n",
       "    </tr>\n",
       "    <tr>\n",
       "      <th>09:16:15</th>\n",
       "      <th>2024-03-03</th>\n",
       "      <th>повторні  пуски  по  пологівському  та  покровському  районах  вздовж  лінії  бойового  зіткнення.</th>\n",
       "      <th>NaN</th>\n",
       "      <td>NaN</td>\n",
       "      <td>NaN</td>\n",
       "      <td>NaN</td>\n",
       "    </tr>\n",
       "    <tr>\n",
       "      <th>08:57:55</th>\n",
       "      <th>2024-03-03</th>\n",
       "      <th>пуски  керованих  авіаційних  бомб  по  покровському  району  донецької  області.</th>\n",
       "      <th>NaN</th>\n",
       "      <td>NaN</td>\n",
       "      <td>NaN</td>\n",
       "      <td>NaN</td>\n",
       "    </tr>\n",
       "    <tr>\n",
       "      <th>08:57:34</th>\n",
       "      <th>2024-03-03</th>\n",
       "      <th>пуски  керованих  авіаційних  бомб  по  пологівському  району  запорізької  області.</th>\n",
       "      <th>NaN</th>\n",
       "      <td>NaN</td>\n",
       "      <td>NaN</td>\n",
       "      <td>NaN</td>\n",
       "    </tr>\n",
       "  </tbody>\n",
       "</table>\n",
       "</div>"
      ],
      "text/plain": [
       "                                                                                        time  \\\n",
       "09:58:00 2024-03-03 рятувальники  виявили  у  завалах  тіла  ще  дв...   якому     ймовірно    \n",
       "09:25:41 2024-03-03 третя  хвиля  пусків  каб  по  лбз  в  двох  об... NaN               NaN   \n",
       "09:16:15 2024-03-03 повторні  пуски  по  пологівському  та  покровс... NaN               NaN   \n",
       "08:57:55 2024-03-03 пуски  керованих  авіаційних  бомб  по  покровс... NaN               NaN   \n",
       "08:57:34 2024-03-03 пуски  керованих  авіаційних  бомб  по  пологів... NaN               NaN   \n",
       "\n",
       "                                                                                           date  \\\n",
       "09:58:00 2024-03-03 рятувальники  виявили  у  завалах  тіла  ще  дв...   якому     менше  року    \n",
       "09:25:41 2024-03-03 третя  хвиля  пусків  каб  по  лбз  в  двох  об... NaN                  NaN   \n",
       "09:16:15 2024-03-03 повторні  пуски  по  пологівському  та  покровс... NaN                  NaN   \n",
       "08:57:55 2024-03-03 пуски  керованих  авіаційних  бомб  по  покровс... NaN                  NaN   \n",
       "08:57:34 2024-03-03 пуски  керованих  авіаційних  бомб  по  пологів... NaN                  NaN   \n",
       "\n",
       "                                                                                                                           message  \n",
       "09:58:00 2024-03-03 рятувальники  виявили  у  завалах  тіла  ще  дв...   якому     повідомляє  голова  одеської  ова  олег  кіп...  \n",
       "09:25:41 2024-03-03 третя  хвиля  пусків  каб  по  лбз  в  двох  об... NaN                                                     NaN  \n",
       "09:16:15 2024-03-03 повторні  пуски  по  пологівському  та  покровс... NaN                                                     NaN  \n",
       "08:57:55 2024-03-03 пуски  керованих  авіаційних  бомб  по  покровс... NaN                                                     NaN  \n",
       "08:57:34 2024-03-03 пуски  керованих  авіаційних  бомб  по  пологів... NaN                                                     NaN  "
      ]
     },
     "execution_count": 27,
     "metadata": {},
     "output_type": "execute_result"
    }
   ],
   "source": [
    "messages_today.head()"
   ]
  }
 ],
 "metadata": {
  "kernelspec": {
   "display_name": "Python 3 (ipykernel)",
   "language": "python",
   "name": "python3"
  },
  "language_info": {
   "codemirror_mode": {
    "name": "ipython",
    "version": 3
   },
   "file_extension": ".py",
   "mimetype": "text/x-python",
   "name": "python",
   "nbconvert_exporter": "python",
   "pygments_lexer": "ipython3",
   "version": "3.7.4"
  }
 },
 "nbformat": 4,
 "nbformat_minor": 1
}
